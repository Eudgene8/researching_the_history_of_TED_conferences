{
  "cells": [
    {
      "cell_type": "markdown",
      "id": "bc459c39",
      "metadata": {
        "id": "bc459c39"
      },
      "source": [
        "Ссыка на проект и презентацию в Tableau:\n",
        "https://public.tableau.com/app/profile/eudgene.kor/viz/Project_tableau_16867228954290/ED?publish=yes"
      ]
    }
  ],
  "metadata": {
    "ExecuteTimeLog": [
      {
        "duration": 96,
        "start_time": "2023-06-19T08:41:36.295Z"
      },
      {
        "duration": 112,
        "start_time": "2023-06-19T08:43:37.410Z"
      }
    ],
    "kernelspec": {
      "display_name": "Python 3 (ipykernel)",
      "language": "python",
      "name": "python3"
    },
    "language_info": {
      "codemirror_mode": {
        "name": "ipython",
        "version": 3
      },
      "file_extension": ".py",
      "mimetype": "text/x-python",
      "name": "python",
      "nbconvert_exporter": "python",
      "pygments_lexer": "ipython3",
      "version": "3.9.5"
    },
    "toc": {
      "base_numbering": 1,
      "nav_menu": {},
      "number_sections": true,
      "sideBar": true,
      "skip_h1_title": true,
      "title_cell": "Table of Contents",
      "title_sidebar": "Contents",
      "toc_cell": false,
      "toc_position": {},
      "toc_section_display": true,
      "toc_window_display": false
    },
    "colab": {
      "provenance": []
    }
  },
  "nbformat": 4,
  "nbformat_minor": 5
}